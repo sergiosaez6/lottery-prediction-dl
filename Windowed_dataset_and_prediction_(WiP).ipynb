{
  "cells": [
    {
      "cell_type": "markdown",
      "metadata": {
        "id": "dr6MvAdKZGRo"
      },
      "source": [
        "# Dataset window preprocess"
      ]
    },
    {
      "cell_type": "markdown",
      "metadata": {
        "id": "A9tcpRrPLDbg"
      },
      "source": [
        "##1. Upload data to Colab"
      ]
    },
    {
      "cell_type": "code",
      "execution_count": null,
      "metadata": {
        "colab": {
          "base_uri": "https://localhost:8080/"
        },
        "id": "SEw72UfiLCpf",
        "outputId": "86c87842-d3ec-4a95-d150-1b25ec2b2e73"
      },
      "outputs": [
        {
          "output_type": "stream",
          "name": "stdout",
          "text": [
            "Mounted at /content/gdrive\n"
          ]
        }
      ],
      "source": [
        "from google.colab import drive\n",
        "drive.mount('/content/gdrive')"
      ]
    },
    {
      "cell_type": "code",
      "execution_count": null,
      "metadata": {
        "id": "1RtxgdJHWIsU"
      },
      "outputs": [],
      "source": [
        "data_path = '/content/gdrive/MyDrive/Colab Notebooks ESTA CUENTA/Euromillones/'"
      ]
    },
    {
      "cell_type": "markdown",
      "metadata": {
        "id": "I8gmpfvKZmQM"
      },
      "source": [
        "## 2. Import libraries\n"
      ]
    },
    {
      "cell_type": "code",
      "execution_count": null,
      "metadata": {
        "id": "3GpBKxJhZqP4",
        "colab": {
          "base_uri": "https://localhost:8080/"
        },
        "outputId": "1d7ac655-9c5b-4571-f50b-7d34fa8ed0c0"
      },
      "outputs": [
        {
          "output_type": "stream",
          "name": "stdout",
          "text": [
            "Collecting plot_keras_history\n",
            "  Downloading plot_keras_history-1.1.38.tar.gz (11 kB)\n",
            "  Preparing metadata (setup.py) ... \u001b[?25l\u001b[?25hdone\n",
            "Requirement already satisfied: matplotlib in /usr/local/lib/python3.10/dist-packages (from plot_keras_history) (3.7.1)\n",
            "Requirement already satisfied: pandas in /usr/local/lib/python3.10/dist-packages (from plot_keras_history) (1.5.3)\n",
            "Requirement already satisfied: scipy in /usr/local/lib/python3.10/dist-packages (from plot_keras_history) (1.11.3)\n",
            "Collecting support_developer>=1.0.2 (from plot_keras_history)\n",
            "  Downloading support_developer-1.0.5.tar.gz (4.9 kB)\n",
            "  Preparing metadata (setup.py) ... \u001b[?25l\u001b[?25hdone\n",
            "Collecting sanitize_ml_labels>=1.0.48 (from plot_keras_history)\n",
            "  Downloading sanitize_ml_labels-1.0.51.tar.gz (322 kB)\n",
            "\u001b[2K     \u001b[90m━━━━━━━━━━━━━━━━━━━━━━━━━━━━━━━━━━━━━━━━\u001b[0m \u001b[32m322.5/322.5 kB\u001b[0m \u001b[31m6.0 MB/s\u001b[0m eta \u001b[36m0:00:00\u001b[0m\n",
            "\u001b[?25h  Preparing metadata (setup.py) ... \u001b[?25l\u001b[?25hdone\n",
            "Collecting compress_json (from sanitize_ml_labels>=1.0.48->plot_keras_history)\n",
            "  Downloading compress_json-1.0.10.tar.gz (6.4 kB)\n",
            "  Preparing metadata (setup.py) ... \u001b[?25l\u001b[?25hdone\n",
            "Requirement already satisfied: contourpy>=1.0.1 in /usr/local/lib/python3.10/dist-packages (from matplotlib->plot_keras_history) (1.2.0)\n",
            "Requirement already satisfied: cycler>=0.10 in /usr/local/lib/python3.10/dist-packages (from matplotlib->plot_keras_history) (0.12.1)\n",
            "Requirement already satisfied: fonttools>=4.22.0 in /usr/local/lib/python3.10/dist-packages (from matplotlib->plot_keras_history) (4.44.3)\n",
            "Requirement already satisfied: kiwisolver>=1.0.1 in /usr/local/lib/python3.10/dist-packages (from matplotlib->plot_keras_history) (1.4.5)\n",
            "Requirement already satisfied: numpy>=1.20 in /usr/local/lib/python3.10/dist-packages (from matplotlib->plot_keras_history) (1.23.5)\n",
            "Requirement already satisfied: packaging>=20.0 in /usr/local/lib/python3.10/dist-packages (from matplotlib->plot_keras_history) (23.2)\n",
            "Requirement already satisfied: pillow>=6.2.0 in /usr/local/lib/python3.10/dist-packages (from matplotlib->plot_keras_history) (9.4.0)\n",
            "Requirement already satisfied: pyparsing>=2.3.1 in /usr/local/lib/python3.10/dist-packages (from matplotlib->plot_keras_history) (3.1.1)\n",
            "Requirement already satisfied: python-dateutil>=2.7 in /usr/local/lib/python3.10/dist-packages (from matplotlib->plot_keras_history) (2.8.2)\n",
            "Requirement already satisfied: pytz>=2020.1 in /usr/local/lib/python3.10/dist-packages (from pandas->plot_keras_history) (2023.3.post1)\n",
            "Requirement already satisfied: six>=1.5 in /usr/local/lib/python3.10/dist-packages (from python-dateutil>=2.7->matplotlib->plot_keras_history) (1.16.0)\n",
            "Building wheels for collected packages: plot_keras_history, sanitize_ml_labels, support_developer, compress_json\n",
            "  Building wheel for plot_keras_history (setup.py) ... \u001b[?25l\u001b[?25hdone\n",
            "  Created wheel for plot_keras_history: filename=plot_keras_history-1.1.38-py3-none-any.whl size=9455 sha256=5bad3682036749676dcaf15b68944a4e466d6df046712f53291378922da9d654\n",
            "  Stored in directory: /root/.cache/pip/wheels/2f/31/6c/bbc9703b7baa8bd3802a8aedd9e2f9e66941b0cf0d456ab4cc\n",
            "  Building wheel for sanitize_ml_labels (setup.py) ... \u001b[?25l\u001b[?25hdone\n",
            "  Created wheel for sanitize_ml_labels: filename=sanitize_ml_labels-1.0.51-py3-none-any.whl size=321865 sha256=1a98f841409d52ca60211d33a839b62d2bbe264aad26908ce5cae07296ab850d\n",
            "  Stored in directory: /root/.cache/pip/wheels/30/9f/f5/37d037c39ac8b305590d5956f7021c6ca94b63c68be24f6841\n",
            "  Building wheel for support_developer (setup.py) ... \u001b[?25l\u001b[?25hdone\n",
            "  Created wheel for support_developer: filename=support_developer-1.0.5-py3-none-any.whl size=5631 sha256=1acf701a3303f102e46e2faa82bae58b1062c580b229fcc481c2a9dca81d98ec\n",
            "  Stored in directory: /root/.cache/pip/wheels/b6/72/c8/3054a5897ba0713dfa7a941364d68cbd42b0755c8e2ec1c18c\n",
            "  Building wheel for compress_json (setup.py) ... \u001b[?25l\u001b[?25hdone\n",
            "  Created wheel for compress_json: filename=compress_json-1.0.10-py3-none-any.whl size=5817 sha256=7094103aa90006843f03dca62f18a801b8f86d78641b72841936a10ecbe63957\n",
            "  Stored in directory: /root/.cache/pip/wheels/7b/55/94/bc79987b855aac5990e0d015c2e604aa50bc5147673e98530c\n",
            "Successfully built plot_keras_history sanitize_ml_labels support_developer compress_json\n",
            "Installing collected packages: support_developer, compress_json, sanitize_ml_labels, plot_keras_history\n",
            "Successfully installed compress_json-1.0.10 plot_keras_history-1.1.38 sanitize_ml_labels-1.0.51 support_developer-1.0.5\n"
          ]
        }
      ],
      "source": [
        "#Cargar librerias necesarias\n",
        "from matplotlib import pyplot as plt, patches\n",
        "import pandas as pd\n",
        "import numpy as np\n",
        "\n",
        "import tensorflow as tf\n",
        "from tensorflow import keras\n",
        "\n",
        "from tensorflow.keras import applications\n",
        "from tensorflow.keras import optimizers\n",
        "from tensorflow.keras.models import Model, load_model\n",
        "from tensorflow.keras.layers import Input, GlobalAveragePooling2D, Dense, Conv2D, MaxPooling2D, Flatten, Dropout, Concatenate, BatchNormalization, ReLU, GRU, Reshape, Attention\n",
        "from tensorflow.keras.callbacks import ModelCheckpoint, EarlyStopping, ReduceLROnPlateau\n",
        "\n",
        "import time\n",
        "from datetime import datetime\n",
        "\n",
        "import os as os\n",
        "\n",
        "from google.colab import drive\n",
        "from sklearn.model_selection import train_test_split\n",
        "\n",
        "!pip install plot_keras_history\n",
        "from plot_keras_history import plot_history"
      ]
    },
    {
      "cell_type": "markdown",
      "metadata": {
        "id": "DNJsP89caKmY"
      },
      "source": [
        "## 3. Load and manage data\n",
        "\n"
      ]
    },
    {
      "cell_type": "code",
      "execution_count": null,
      "metadata": {
        "colab": {
          "base_uri": "https://localhost:8080/",
          "height": 206
        },
        "id": "vzTXyX8RGA4K",
        "outputId": "b7e27c6d-91c4-41ac-8608-02a40d5bb9fb"
      },
      "outputs": [
        {
          "output_type": "execute_result",
          "data": {
            "text/plain": [
              "         date  b1  b2  b3  b4  b5  e1  e2\n",
              "0  13/02/2004  32  16  29  41  36   9   7\n",
              "1  20/02/2004  13  50  47   7  39   2   5\n",
              "2  27/02/2004  37  19  18  14  31   5   4\n",
              "3  05/03/2004  39  37   4   7  33   5   1\n",
              "4  12/03/2004  44  47  15  28  24   4   5"
            ],
            "text/html": [
              "\n",
              "  <div id=\"df-153feafa-b9a8-4036-916a-8edda11a7382\" class=\"colab-df-container\">\n",
              "    <div>\n",
              "<style scoped>\n",
              "    .dataframe tbody tr th:only-of-type {\n",
              "        vertical-align: middle;\n",
              "    }\n",
              "\n",
              "    .dataframe tbody tr th {\n",
              "        vertical-align: top;\n",
              "    }\n",
              "\n",
              "    .dataframe thead th {\n",
              "        text-align: right;\n",
              "    }\n",
              "</style>\n",
              "<table border=\"1\" class=\"dataframe\">\n",
              "  <thead>\n",
              "    <tr style=\"text-align: right;\">\n",
              "      <th></th>\n",
              "      <th>date</th>\n",
              "      <th>b1</th>\n",
              "      <th>b2</th>\n",
              "      <th>b3</th>\n",
              "      <th>b4</th>\n",
              "      <th>b5</th>\n",
              "      <th>e1</th>\n",
              "      <th>e2</th>\n",
              "    </tr>\n",
              "  </thead>\n",
              "  <tbody>\n",
              "    <tr>\n",
              "      <th>0</th>\n",
              "      <td>13/02/2004</td>\n",
              "      <td>32</td>\n",
              "      <td>16</td>\n",
              "      <td>29</td>\n",
              "      <td>41</td>\n",
              "      <td>36</td>\n",
              "      <td>9</td>\n",
              "      <td>7</td>\n",
              "    </tr>\n",
              "    <tr>\n",
              "      <th>1</th>\n",
              "      <td>20/02/2004</td>\n",
              "      <td>13</td>\n",
              "      <td>50</td>\n",
              "      <td>47</td>\n",
              "      <td>7</td>\n",
              "      <td>39</td>\n",
              "      <td>2</td>\n",
              "      <td>5</td>\n",
              "    </tr>\n",
              "    <tr>\n",
              "      <th>2</th>\n",
              "      <td>27/02/2004</td>\n",
              "      <td>37</td>\n",
              "      <td>19</td>\n",
              "      <td>18</td>\n",
              "      <td>14</td>\n",
              "      <td>31</td>\n",
              "      <td>5</td>\n",
              "      <td>4</td>\n",
              "    </tr>\n",
              "    <tr>\n",
              "      <th>3</th>\n",
              "      <td>05/03/2004</td>\n",
              "      <td>39</td>\n",
              "      <td>37</td>\n",
              "      <td>4</td>\n",
              "      <td>7</td>\n",
              "      <td>33</td>\n",
              "      <td>5</td>\n",
              "      <td>1</td>\n",
              "    </tr>\n",
              "    <tr>\n",
              "      <th>4</th>\n",
              "      <td>12/03/2004</td>\n",
              "      <td>44</td>\n",
              "      <td>47</td>\n",
              "      <td>15</td>\n",
              "      <td>28</td>\n",
              "      <td>24</td>\n",
              "      <td>4</td>\n",
              "      <td>5</td>\n",
              "    </tr>\n",
              "  </tbody>\n",
              "</table>\n",
              "</div>\n",
              "    <div class=\"colab-df-buttons\">\n",
              "\n",
              "  <div class=\"colab-df-container\">\n",
              "    <button class=\"colab-df-convert\" onclick=\"convertToInteractive('df-153feafa-b9a8-4036-916a-8edda11a7382')\"\n",
              "            title=\"Convert this dataframe to an interactive table.\"\n",
              "            style=\"display:none;\">\n",
              "\n",
              "  <svg xmlns=\"http://www.w3.org/2000/svg\" height=\"24px\" viewBox=\"0 -960 960 960\">\n",
              "    <path d=\"M120-120v-720h720v720H120Zm60-500h600v-160H180v160Zm220 220h160v-160H400v160Zm0 220h160v-160H400v160ZM180-400h160v-160H180v160Zm440 0h160v-160H620v160ZM180-180h160v-160H180v160Zm440 0h160v-160H620v160Z\"/>\n",
              "  </svg>\n",
              "    </button>\n",
              "\n",
              "  <style>\n",
              "    .colab-df-container {\n",
              "      display:flex;\n",
              "      gap: 12px;\n",
              "    }\n",
              "\n",
              "    .colab-df-convert {\n",
              "      background-color: #E8F0FE;\n",
              "      border: none;\n",
              "      border-radius: 50%;\n",
              "      cursor: pointer;\n",
              "      display: none;\n",
              "      fill: #1967D2;\n",
              "      height: 32px;\n",
              "      padding: 0 0 0 0;\n",
              "      width: 32px;\n",
              "    }\n",
              "\n",
              "    .colab-df-convert:hover {\n",
              "      background-color: #E2EBFA;\n",
              "      box-shadow: 0px 1px 2px rgba(60, 64, 67, 0.3), 0px 1px 3px 1px rgba(60, 64, 67, 0.15);\n",
              "      fill: #174EA6;\n",
              "    }\n",
              "\n",
              "    .colab-df-buttons div {\n",
              "      margin-bottom: 4px;\n",
              "    }\n",
              "\n",
              "    [theme=dark] .colab-df-convert {\n",
              "      background-color: #3B4455;\n",
              "      fill: #D2E3FC;\n",
              "    }\n",
              "\n",
              "    [theme=dark] .colab-df-convert:hover {\n",
              "      background-color: #434B5C;\n",
              "      box-shadow: 0px 1px 3px 1px rgba(0, 0, 0, 0.15);\n",
              "      filter: drop-shadow(0px 1px 2px rgba(0, 0, 0, 0.3));\n",
              "      fill: #FFFFFF;\n",
              "    }\n",
              "  </style>\n",
              "\n",
              "    <script>\n",
              "      const buttonEl =\n",
              "        document.querySelector('#df-153feafa-b9a8-4036-916a-8edda11a7382 button.colab-df-convert');\n",
              "      buttonEl.style.display =\n",
              "        google.colab.kernel.accessAllowed ? 'block' : 'none';\n",
              "\n",
              "      async function convertToInteractive(key) {\n",
              "        const element = document.querySelector('#df-153feafa-b9a8-4036-916a-8edda11a7382');\n",
              "        const dataTable =\n",
              "          await google.colab.kernel.invokeFunction('convertToInteractive',\n",
              "                                                    [key], {});\n",
              "        if (!dataTable) return;\n",
              "\n",
              "        const docLinkHtml = 'Like what you see? Visit the ' +\n",
              "          '<a target=\"_blank\" href=https://colab.research.google.com/notebooks/data_table.ipynb>data table notebook</a>'\n",
              "          + ' to learn more about interactive tables.';\n",
              "        element.innerHTML = '';\n",
              "        dataTable['output_type'] = 'display_data';\n",
              "        await google.colab.output.renderOutput(dataTable, element);\n",
              "        const docLink = document.createElement('div');\n",
              "        docLink.innerHTML = docLinkHtml;\n",
              "        element.appendChild(docLink);\n",
              "      }\n",
              "    </script>\n",
              "  </div>\n",
              "\n",
              "\n",
              "<div id=\"df-9280bb6f-3387-4c4b-97aa-4c20ef84b926\">\n",
              "  <button class=\"colab-df-quickchart\" onclick=\"quickchart('df-9280bb6f-3387-4c4b-97aa-4c20ef84b926')\"\n",
              "            title=\"Suggest charts\"\n",
              "            style=\"display:none;\">\n",
              "\n",
              "<svg xmlns=\"http://www.w3.org/2000/svg\" height=\"24px\"viewBox=\"0 0 24 24\"\n",
              "     width=\"24px\">\n",
              "    <g>\n",
              "        <path d=\"M19 3H5c-1.1 0-2 .9-2 2v14c0 1.1.9 2 2 2h14c1.1 0 2-.9 2-2V5c0-1.1-.9-2-2-2zM9 17H7v-7h2v7zm4 0h-2V7h2v10zm4 0h-2v-4h2v4z\"/>\n",
              "    </g>\n",
              "</svg>\n",
              "  </button>\n",
              "\n",
              "<style>\n",
              "  .colab-df-quickchart {\n",
              "      --bg-color: #E8F0FE;\n",
              "      --fill-color: #1967D2;\n",
              "      --hover-bg-color: #E2EBFA;\n",
              "      --hover-fill-color: #174EA6;\n",
              "      --disabled-fill-color: #AAA;\n",
              "      --disabled-bg-color: #DDD;\n",
              "  }\n",
              "\n",
              "  [theme=dark] .colab-df-quickchart {\n",
              "      --bg-color: #3B4455;\n",
              "      --fill-color: #D2E3FC;\n",
              "      --hover-bg-color: #434B5C;\n",
              "      --hover-fill-color: #FFFFFF;\n",
              "      --disabled-bg-color: #3B4455;\n",
              "      --disabled-fill-color: #666;\n",
              "  }\n",
              "\n",
              "  .colab-df-quickchart {\n",
              "    background-color: var(--bg-color);\n",
              "    border: none;\n",
              "    border-radius: 50%;\n",
              "    cursor: pointer;\n",
              "    display: none;\n",
              "    fill: var(--fill-color);\n",
              "    height: 32px;\n",
              "    padding: 0;\n",
              "    width: 32px;\n",
              "  }\n",
              "\n",
              "  .colab-df-quickchart:hover {\n",
              "    background-color: var(--hover-bg-color);\n",
              "    box-shadow: 0 1px 2px rgba(60, 64, 67, 0.3), 0 1px 3px 1px rgba(60, 64, 67, 0.15);\n",
              "    fill: var(--button-hover-fill-color);\n",
              "  }\n",
              "\n",
              "  .colab-df-quickchart-complete:disabled,\n",
              "  .colab-df-quickchart-complete:disabled:hover {\n",
              "    background-color: var(--disabled-bg-color);\n",
              "    fill: var(--disabled-fill-color);\n",
              "    box-shadow: none;\n",
              "  }\n",
              "\n",
              "  .colab-df-spinner {\n",
              "    border: 2px solid var(--fill-color);\n",
              "    border-color: transparent;\n",
              "    border-bottom-color: var(--fill-color);\n",
              "    animation:\n",
              "      spin 1s steps(1) infinite;\n",
              "  }\n",
              "\n",
              "  @keyframes spin {\n",
              "    0% {\n",
              "      border-color: transparent;\n",
              "      border-bottom-color: var(--fill-color);\n",
              "      border-left-color: var(--fill-color);\n",
              "    }\n",
              "    20% {\n",
              "      border-color: transparent;\n",
              "      border-left-color: var(--fill-color);\n",
              "      border-top-color: var(--fill-color);\n",
              "    }\n",
              "    30% {\n",
              "      border-color: transparent;\n",
              "      border-left-color: var(--fill-color);\n",
              "      border-top-color: var(--fill-color);\n",
              "      border-right-color: var(--fill-color);\n",
              "    }\n",
              "    40% {\n",
              "      border-color: transparent;\n",
              "      border-right-color: var(--fill-color);\n",
              "      border-top-color: var(--fill-color);\n",
              "    }\n",
              "    60% {\n",
              "      border-color: transparent;\n",
              "      border-right-color: var(--fill-color);\n",
              "    }\n",
              "    80% {\n",
              "      border-color: transparent;\n",
              "      border-right-color: var(--fill-color);\n",
              "      border-bottom-color: var(--fill-color);\n",
              "    }\n",
              "    90% {\n",
              "      border-color: transparent;\n",
              "      border-bottom-color: var(--fill-color);\n",
              "    }\n",
              "  }\n",
              "</style>\n",
              "\n",
              "  <script>\n",
              "    async function quickchart(key) {\n",
              "      const quickchartButtonEl =\n",
              "        document.querySelector('#' + key + ' button');\n",
              "      quickchartButtonEl.disabled = true;  // To prevent multiple clicks.\n",
              "      quickchartButtonEl.classList.add('colab-df-spinner');\n",
              "      try {\n",
              "        const charts = await google.colab.kernel.invokeFunction(\n",
              "            'suggestCharts', [key], {});\n",
              "      } catch (error) {\n",
              "        console.error('Error during call to suggestCharts:', error);\n",
              "      }\n",
              "      quickchartButtonEl.classList.remove('colab-df-spinner');\n",
              "      quickchartButtonEl.classList.add('colab-df-quickchart-complete');\n",
              "    }\n",
              "    (() => {\n",
              "      let quickchartButtonEl =\n",
              "        document.querySelector('#df-9280bb6f-3387-4c4b-97aa-4c20ef84b926 button');\n",
              "      quickchartButtonEl.style.display =\n",
              "        google.colab.kernel.accessAllowed ? 'block' : 'none';\n",
              "    })();\n",
              "  </script>\n",
              "</div>\n",
              "    </div>\n",
              "  </div>\n"
            ]
          },
          "metadata": {},
          "execution_count": 344
        }
      ],
      "source": [
        "train = pd.read_csv(data_path+'euromillions_train.csv',\n",
        "                    #names=['date', 'b1', 'b2', 'b3', 'b4', 'b5', 'e1', 'e2'],\n",
        "                    delimiter=';')\n",
        "\n",
        "train.head()"
      ]
    },
    {
      "cell_type": "code",
      "source": [
        "train.dtypes"
      ],
      "metadata": {
        "colab": {
          "base_uri": "https://localhost:8080/"
        },
        "id": "TzFqL7mHf0bf",
        "outputId": "cd5915fe-049d-47e3-80e5-b466d1af8c35"
      },
      "execution_count": null,
      "outputs": [
        {
          "output_type": "execute_result",
          "data": {
            "text/plain": [
              "date    object\n",
              "b1       int64\n",
              "b2       int64\n",
              "b3       int64\n",
              "b4       int64\n",
              "b5       int64\n",
              "e1       int64\n",
              "e2       int64\n",
              "dtype: object"
            ]
          },
          "metadata": {},
          "execution_count": 345
        }
      ]
    },
    {
      "cell_type": "code",
      "source": [
        "test = pd.read_csv(data_path+'euromillions_test.csv',\n",
        "                    #names=['date', 'b1', 'b2', 'b3', 'b4', 'b5', 'e1', 'e2'],\n",
        "                    delimiter=';')\n",
        "\n",
        "test.head()"
      ],
      "metadata": {
        "colab": {
          "base_uri": "https://localhost:8080/",
          "height": 206
        },
        "id": "J251iKcIfgjA",
        "outputId": "8db6f3c7-9602-4536-f32d-75c1d0ae5d5c"
      },
      "execution_count": null,
      "outputs": [
        {
          "output_type": "execute_result",
          "data": {
            "text/plain": [
              "         date  b1  b2  b3  b4  b5  e1  e2\n",
              "0  01/01/2019  11  25   8  28   1   4   6\n",
              "1  04/01/2019  19   7  11  37  27  10   6\n",
              "2  08/01/2019  19  32  31   3  22   2  11\n",
              "3  11/01/2019  19  48  31  39   1   6   1\n",
              "4  15/01/2019  33  22  35  25  29   3   6"
            ],
            "text/html": [
              "\n",
              "  <div id=\"df-8b51dc5a-020e-498d-b955-9f7df09e2ed8\" class=\"colab-df-container\">\n",
              "    <div>\n",
              "<style scoped>\n",
              "    .dataframe tbody tr th:only-of-type {\n",
              "        vertical-align: middle;\n",
              "    }\n",
              "\n",
              "    .dataframe tbody tr th {\n",
              "        vertical-align: top;\n",
              "    }\n",
              "\n",
              "    .dataframe thead th {\n",
              "        text-align: right;\n",
              "    }\n",
              "</style>\n",
              "<table border=\"1\" class=\"dataframe\">\n",
              "  <thead>\n",
              "    <tr style=\"text-align: right;\">\n",
              "      <th></th>\n",
              "      <th>date</th>\n",
              "      <th>b1</th>\n",
              "      <th>b2</th>\n",
              "      <th>b3</th>\n",
              "      <th>b4</th>\n",
              "      <th>b5</th>\n",
              "      <th>e1</th>\n",
              "      <th>e2</th>\n",
              "    </tr>\n",
              "  </thead>\n",
              "  <tbody>\n",
              "    <tr>\n",
              "      <th>0</th>\n",
              "      <td>01/01/2019</td>\n",
              "      <td>11</td>\n",
              "      <td>25</td>\n",
              "      <td>8</td>\n",
              "      <td>28</td>\n",
              "      <td>1</td>\n",
              "      <td>4</td>\n",
              "      <td>6</td>\n",
              "    </tr>\n",
              "    <tr>\n",
              "      <th>1</th>\n",
              "      <td>04/01/2019</td>\n",
              "      <td>19</td>\n",
              "      <td>7</td>\n",
              "      <td>11</td>\n",
              "      <td>37</td>\n",
              "      <td>27</td>\n",
              "      <td>10</td>\n",
              "      <td>6</td>\n",
              "    </tr>\n",
              "    <tr>\n",
              "      <th>2</th>\n",
              "      <td>08/01/2019</td>\n",
              "      <td>19</td>\n",
              "      <td>32</td>\n",
              "      <td>31</td>\n",
              "      <td>3</td>\n",
              "      <td>22</td>\n",
              "      <td>2</td>\n",
              "      <td>11</td>\n",
              "    </tr>\n",
              "    <tr>\n",
              "      <th>3</th>\n",
              "      <td>11/01/2019</td>\n",
              "      <td>19</td>\n",
              "      <td>48</td>\n",
              "      <td>31</td>\n",
              "      <td>39</td>\n",
              "      <td>1</td>\n",
              "      <td>6</td>\n",
              "      <td>1</td>\n",
              "    </tr>\n",
              "    <tr>\n",
              "      <th>4</th>\n",
              "      <td>15/01/2019</td>\n",
              "      <td>33</td>\n",
              "      <td>22</td>\n",
              "      <td>35</td>\n",
              "      <td>25</td>\n",
              "      <td>29</td>\n",
              "      <td>3</td>\n",
              "      <td>6</td>\n",
              "    </tr>\n",
              "  </tbody>\n",
              "</table>\n",
              "</div>\n",
              "    <div class=\"colab-df-buttons\">\n",
              "\n",
              "  <div class=\"colab-df-container\">\n",
              "    <button class=\"colab-df-convert\" onclick=\"convertToInteractive('df-8b51dc5a-020e-498d-b955-9f7df09e2ed8')\"\n",
              "            title=\"Convert this dataframe to an interactive table.\"\n",
              "            style=\"display:none;\">\n",
              "\n",
              "  <svg xmlns=\"http://www.w3.org/2000/svg\" height=\"24px\" viewBox=\"0 -960 960 960\">\n",
              "    <path d=\"M120-120v-720h720v720H120Zm60-500h600v-160H180v160Zm220 220h160v-160H400v160Zm0 220h160v-160H400v160ZM180-400h160v-160H180v160Zm440 0h160v-160H620v160ZM180-180h160v-160H180v160Zm440 0h160v-160H620v160Z\"/>\n",
              "  </svg>\n",
              "    </button>\n",
              "\n",
              "  <style>\n",
              "    .colab-df-container {\n",
              "      display:flex;\n",
              "      gap: 12px;\n",
              "    }\n",
              "\n",
              "    .colab-df-convert {\n",
              "      background-color: #E8F0FE;\n",
              "      border: none;\n",
              "      border-radius: 50%;\n",
              "      cursor: pointer;\n",
              "      display: none;\n",
              "      fill: #1967D2;\n",
              "      height: 32px;\n",
              "      padding: 0 0 0 0;\n",
              "      width: 32px;\n",
              "    }\n",
              "\n",
              "    .colab-df-convert:hover {\n",
              "      background-color: #E2EBFA;\n",
              "      box-shadow: 0px 1px 2px rgba(60, 64, 67, 0.3), 0px 1px 3px 1px rgba(60, 64, 67, 0.15);\n",
              "      fill: #174EA6;\n",
              "    }\n",
              "\n",
              "    .colab-df-buttons div {\n",
              "      margin-bottom: 4px;\n",
              "    }\n",
              "\n",
              "    [theme=dark] .colab-df-convert {\n",
              "      background-color: #3B4455;\n",
              "      fill: #D2E3FC;\n",
              "    }\n",
              "\n",
              "    [theme=dark] .colab-df-convert:hover {\n",
              "      background-color: #434B5C;\n",
              "      box-shadow: 0px 1px 3px 1px rgba(0, 0, 0, 0.15);\n",
              "      filter: drop-shadow(0px 1px 2px rgba(0, 0, 0, 0.3));\n",
              "      fill: #FFFFFF;\n",
              "    }\n",
              "  </style>\n",
              "\n",
              "    <script>\n",
              "      const buttonEl =\n",
              "        document.querySelector('#df-8b51dc5a-020e-498d-b955-9f7df09e2ed8 button.colab-df-convert');\n",
              "      buttonEl.style.display =\n",
              "        google.colab.kernel.accessAllowed ? 'block' : 'none';\n",
              "\n",
              "      async function convertToInteractive(key) {\n",
              "        const element = document.querySelector('#df-8b51dc5a-020e-498d-b955-9f7df09e2ed8');\n",
              "        const dataTable =\n",
              "          await google.colab.kernel.invokeFunction('convertToInteractive',\n",
              "                                                    [key], {});\n",
              "        if (!dataTable) return;\n",
              "\n",
              "        const docLinkHtml = 'Like what you see? Visit the ' +\n",
              "          '<a target=\"_blank\" href=https://colab.research.google.com/notebooks/data_table.ipynb>data table notebook</a>'\n",
              "          + ' to learn more about interactive tables.';\n",
              "        element.innerHTML = '';\n",
              "        dataTable['output_type'] = 'display_data';\n",
              "        await google.colab.output.renderOutput(dataTable, element);\n",
              "        const docLink = document.createElement('div');\n",
              "        docLink.innerHTML = docLinkHtml;\n",
              "        element.appendChild(docLink);\n",
              "      }\n",
              "    </script>\n",
              "  </div>\n",
              "\n",
              "\n",
              "<div id=\"df-b58611bf-27ed-44cf-93a9-71a711d308a4\">\n",
              "  <button class=\"colab-df-quickchart\" onclick=\"quickchart('df-b58611bf-27ed-44cf-93a9-71a711d308a4')\"\n",
              "            title=\"Suggest charts\"\n",
              "            style=\"display:none;\">\n",
              "\n",
              "<svg xmlns=\"http://www.w3.org/2000/svg\" height=\"24px\"viewBox=\"0 0 24 24\"\n",
              "     width=\"24px\">\n",
              "    <g>\n",
              "        <path d=\"M19 3H5c-1.1 0-2 .9-2 2v14c0 1.1.9 2 2 2h14c1.1 0 2-.9 2-2V5c0-1.1-.9-2-2-2zM9 17H7v-7h2v7zm4 0h-2V7h2v10zm4 0h-2v-4h2v4z\"/>\n",
              "    </g>\n",
              "</svg>\n",
              "  </button>\n",
              "\n",
              "<style>\n",
              "  .colab-df-quickchart {\n",
              "      --bg-color: #E8F0FE;\n",
              "      --fill-color: #1967D2;\n",
              "      --hover-bg-color: #E2EBFA;\n",
              "      --hover-fill-color: #174EA6;\n",
              "      --disabled-fill-color: #AAA;\n",
              "      --disabled-bg-color: #DDD;\n",
              "  }\n",
              "\n",
              "  [theme=dark] .colab-df-quickchart {\n",
              "      --bg-color: #3B4455;\n",
              "      --fill-color: #D2E3FC;\n",
              "      --hover-bg-color: #434B5C;\n",
              "      --hover-fill-color: #FFFFFF;\n",
              "      --disabled-bg-color: #3B4455;\n",
              "      --disabled-fill-color: #666;\n",
              "  }\n",
              "\n",
              "  .colab-df-quickchart {\n",
              "    background-color: var(--bg-color);\n",
              "    border: none;\n",
              "    border-radius: 50%;\n",
              "    cursor: pointer;\n",
              "    display: none;\n",
              "    fill: var(--fill-color);\n",
              "    height: 32px;\n",
              "    padding: 0;\n",
              "    width: 32px;\n",
              "  }\n",
              "\n",
              "  .colab-df-quickchart:hover {\n",
              "    background-color: var(--hover-bg-color);\n",
              "    box-shadow: 0 1px 2px rgba(60, 64, 67, 0.3), 0 1px 3px 1px rgba(60, 64, 67, 0.15);\n",
              "    fill: var(--button-hover-fill-color);\n",
              "  }\n",
              "\n",
              "  .colab-df-quickchart-complete:disabled,\n",
              "  .colab-df-quickchart-complete:disabled:hover {\n",
              "    background-color: var(--disabled-bg-color);\n",
              "    fill: var(--disabled-fill-color);\n",
              "    box-shadow: none;\n",
              "  }\n",
              "\n",
              "  .colab-df-spinner {\n",
              "    border: 2px solid var(--fill-color);\n",
              "    border-color: transparent;\n",
              "    border-bottom-color: var(--fill-color);\n",
              "    animation:\n",
              "      spin 1s steps(1) infinite;\n",
              "  }\n",
              "\n",
              "  @keyframes spin {\n",
              "    0% {\n",
              "      border-color: transparent;\n",
              "      border-bottom-color: var(--fill-color);\n",
              "      border-left-color: var(--fill-color);\n",
              "    }\n",
              "    20% {\n",
              "      border-color: transparent;\n",
              "      border-left-color: var(--fill-color);\n",
              "      border-top-color: var(--fill-color);\n",
              "    }\n",
              "    30% {\n",
              "      border-color: transparent;\n",
              "      border-left-color: var(--fill-color);\n",
              "      border-top-color: var(--fill-color);\n",
              "      border-right-color: var(--fill-color);\n",
              "    }\n",
              "    40% {\n",
              "      border-color: transparent;\n",
              "      border-right-color: var(--fill-color);\n",
              "      border-top-color: var(--fill-color);\n",
              "    }\n",
              "    60% {\n",
              "      border-color: transparent;\n",
              "      border-right-color: var(--fill-color);\n",
              "    }\n",
              "    80% {\n",
              "      border-color: transparent;\n",
              "      border-right-color: var(--fill-color);\n",
              "      border-bottom-color: var(--fill-color);\n",
              "    }\n",
              "    90% {\n",
              "      border-color: transparent;\n",
              "      border-bottom-color: var(--fill-color);\n",
              "    }\n",
              "  }\n",
              "</style>\n",
              "\n",
              "  <script>\n",
              "    async function quickchart(key) {\n",
              "      const quickchartButtonEl =\n",
              "        document.querySelector('#' + key + ' button');\n",
              "      quickchartButtonEl.disabled = true;  // To prevent multiple clicks.\n",
              "      quickchartButtonEl.classList.add('colab-df-spinner');\n",
              "      try {\n",
              "        const charts = await google.colab.kernel.invokeFunction(\n",
              "            'suggestCharts', [key], {});\n",
              "      } catch (error) {\n",
              "        console.error('Error during call to suggestCharts:', error);\n",
              "      }\n",
              "      quickchartButtonEl.classList.remove('colab-df-spinner');\n",
              "      quickchartButtonEl.classList.add('colab-df-quickchart-complete');\n",
              "    }\n",
              "    (() => {\n",
              "      let quickchartButtonEl =\n",
              "        document.querySelector('#df-b58611bf-27ed-44cf-93a9-71a711d308a4 button');\n",
              "      quickchartButtonEl.style.display =\n",
              "        google.colab.kernel.accessAllowed ? 'block' : 'none';\n",
              "    })();\n",
              "  </script>\n",
              "</div>\n",
              "    </div>\n",
              "  </div>\n"
            ]
          },
          "metadata": {},
          "execution_count": 346
        }
      ]
    },
    {
      "cell_type": "code",
      "source": [
        "test.iloc[-1,:]"
      ],
      "metadata": {
        "colab": {
          "base_uri": "https://localhost:8080/"
        },
        "id": "T8L_DPARNJeu",
        "outputId": "bb034239-0390-4834-fbba-1455f282c4ce"
      },
      "execution_count": null,
      "outputs": [
        {
          "output_type": "execute_result",
          "data": {
            "text/plain": [
              "date    28/11/2023\n",
              "b1              12\n",
              "b2              16\n",
              "b3              27\n",
              "b4              33\n",
              "b5              44\n",
              "e1               7\n",
              "e2               8\n",
              "Name: 511, dtype: object"
            ]
          },
          "metadata": {},
          "execution_count": 347
        }
      ]
    },
    {
      "cell_type": "code",
      "source": [
        "def normalize_data(df):\n",
        "  df_n = df.copy()\n",
        "  df_n.iloc[:,1:6] = (df_n.iloc[:,1:6]-1)/(50-1)\n",
        "  df_n.iloc[:,6:] = (df_n.iloc[:,6:]-1)/(12-1)\n",
        "  #df_n = np.reshape(df_n.values, (df_n.shape[0], df_n.shape[1], 1))\n",
        "  return df_n"
      ],
      "metadata": {
        "id": "w4Cm6x8gV5Wp"
      },
      "execution_count": null,
      "outputs": []
    },
    {
      "cell_type": "code",
      "source": [
        "train_norm = normalize_data(train)\n",
        "test_norm = normalize_data(test)"
      ],
      "metadata": {
        "id": "JhfH0-yjkPq_"
      },
      "execution_count": null,
      "outputs": []
    },
    {
      "cell_type": "code",
      "source": [
        "train_norm.head()"
      ],
      "metadata": {
        "colab": {
          "base_uri": "https://localhost:8080/",
          "height": 206
        },
        "id": "GvkaMHyhkjxF",
        "outputId": "263d272c-2b10-43f5-8182-bd75b371aab0"
      },
      "execution_count": null,
      "outputs": [
        {
          "output_type": "execute_result",
          "data": {
            "text/plain": [
              "         date        b1        b2        b3        b4        b5        e1  \\\n",
              "0  13/02/2004  0.632653  0.306122  0.571429  0.816327  0.714286  0.727273   \n",
              "1  20/02/2004  0.244898  1.000000  0.938776  0.122449  0.775510  0.090909   \n",
              "2  27/02/2004  0.734694  0.367347  0.346939  0.265306  0.612245  0.363636   \n",
              "3  05/03/2004  0.775510  0.734694  0.061224  0.122449  0.653061  0.363636   \n",
              "4  12/03/2004  0.877551  0.938776  0.285714  0.551020  0.469388  0.272727   \n",
              "\n",
              "         e2  \n",
              "0  0.545455  \n",
              "1  0.363636  \n",
              "2  0.272727  \n",
              "3  0.000000  \n",
              "4  0.363636  "
            ],
            "text/html": [
              "\n",
              "  <div id=\"df-d5b434a0-fa42-46c2-931e-89936232a2a3\" class=\"colab-df-container\">\n",
              "    <div>\n",
              "<style scoped>\n",
              "    .dataframe tbody tr th:only-of-type {\n",
              "        vertical-align: middle;\n",
              "    }\n",
              "\n",
              "    .dataframe tbody tr th {\n",
              "        vertical-align: top;\n",
              "    }\n",
              "\n",
              "    .dataframe thead th {\n",
              "        text-align: right;\n",
              "    }\n",
              "</style>\n",
              "<table border=\"1\" class=\"dataframe\">\n",
              "  <thead>\n",
              "    <tr style=\"text-align: right;\">\n",
              "      <th></th>\n",
              "      <th>date</th>\n",
              "      <th>b1</th>\n",
              "      <th>b2</th>\n",
              "      <th>b3</th>\n",
              "      <th>b4</th>\n",
              "      <th>b5</th>\n",
              "      <th>e1</th>\n",
              "      <th>e2</th>\n",
              "    </tr>\n",
              "  </thead>\n",
              "  <tbody>\n",
              "    <tr>\n",
              "      <th>0</th>\n",
              "      <td>13/02/2004</td>\n",
              "      <td>0.632653</td>\n",
              "      <td>0.306122</td>\n",
              "      <td>0.571429</td>\n",
              "      <td>0.816327</td>\n",
              "      <td>0.714286</td>\n",
              "      <td>0.727273</td>\n",
              "      <td>0.545455</td>\n",
              "    </tr>\n",
              "    <tr>\n",
              "      <th>1</th>\n",
              "      <td>20/02/2004</td>\n",
              "      <td>0.244898</td>\n",
              "      <td>1.000000</td>\n",
              "      <td>0.938776</td>\n",
              "      <td>0.122449</td>\n",
              "      <td>0.775510</td>\n",
              "      <td>0.090909</td>\n",
              "      <td>0.363636</td>\n",
              "    </tr>\n",
              "    <tr>\n",
              "      <th>2</th>\n",
              "      <td>27/02/2004</td>\n",
              "      <td>0.734694</td>\n",
              "      <td>0.367347</td>\n",
              "      <td>0.346939</td>\n",
              "      <td>0.265306</td>\n",
              "      <td>0.612245</td>\n",
              "      <td>0.363636</td>\n",
              "      <td>0.272727</td>\n",
              "    </tr>\n",
              "    <tr>\n",
              "      <th>3</th>\n",
              "      <td>05/03/2004</td>\n",
              "      <td>0.775510</td>\n",
              "      <td>0.734694</td>\n",
              "      <td>0.061224</td>\n",
              "      <td>0.122449</td>\n",
              "      <td>0.653061</td>\n",
              "      <td>0.363636</td>\n",
              "      <td>0.000000</td>\n",
              "    </tr>\n",
              "    <tr>\n",
              "      <th>4</th>\n",
              "      <td>12/03/2004</td>\n",
              "      <td>0.877551</td>\n",
              "      <td>0.938776</td>\n",
              "      <td>0.285714</td>\n",
              "      <td>0.551020</td>\n",
              "      <td>0.469388</td>\n",
              "      <td>0.272727</td>\n",
              "      <td>0.363636</td>\n",
              "    </tr>\n",
              "  </tbody>\n",
              "</table>\n",
              "</div>\n",
              "    <div class=\"colab-df-buttons\">\n",
              "\n",
              "  <div class=\"colab-df-container\">\n",
              "    <button class=\"colab-df-convert\" onclick=\"convertToInteractive('df-d5b434a0-fa42-46c2-931e-89936232a2a3')\"\n",
              "            title=\"Convert this dataframe to an interactive table.\"\n",
              "            style=\"display:none;\">\n",
              "\n",
              "  <svg xmlns=\"http://www.w3.org/2000/svg\" height=\"24px\" viewBox=\"0 -960 960 960\">\n",
              "    <path d=\"M120-120v-720h720v720H120Zm60-500h600v-160H180v160Zm220 220h160v-160H400v160Zm0 220h160v-160H400v160ZM180-400h160v-160H180v160Zm440 0h160v-160H620v160ZM180-180h160v-160H180v160Zm440 0h160v-160H620v160Z\"/>\n",
              "  </svg>\n",
              "    </button>\n",
              "\n",
              "  <style>\n",
              "    .colab-df-container {\n",
              "      display:flex;\n",
              "      gap: 12px;\n",
              "    }\n",
              "\n",
              "    .colab-df-convert {\n",
              "      background-color: #E8F0FE;\n",
              "      border: none;\n",
              "      border-radius: 50%;\n",
              "      cursor: pointer;\n",
              "      display: none;\n",
              "      fill: #1967D2;\n",
              "      height: 32px;\n",
              "      padding: 0 0 0 0;\n",
              "      width: 32px;\n",
              "    }\n",
              "\n",
              "    .colab-df-convert:hover {\n",
              "      background-color: #E2EBFA;\n",
              "      box-shadow: 0px 1px 2px rgba(60, 64, 67, 0.3), 0px 1px 3px 1px rgba(60, 64, 67, 0.15);\n",
              "      fill: #174EA6;\n",
              "    }\n",
              "\n",
              "    .colab-df-buttons div {\n",
              "      margin-bottom: 4px;\n",
              "    }\n",
              "\n",
              "    [theme=dark] .colab-df-convert {\n",
              "      background-color: #3B4455;\n",
              "      fill: #D2E3FC;\n",
              "    }\n",
              "\n",
              "    [theme=dark] .colab-df-convert:hover {\n",
              "      background-color: #434B5C;\n",
              "      box-shadow: 0px 1px 3px 1px rgba(0, 0, 0, 0.15);\n",
              "      filter: drop-shadow(0px 1px 2px rgba(0, 0, 0, 0.3));\n",
              "      fill: #FFFFFF;\n",
              "    }\n",
              "  </style>\n",
              "\n",
              "    <script>\n",
              "      const buttonEl =\n",
              "        document.querySelector('#df-d5b434a0-fa42-46c2-931e-89936232a2a3 button.colab-df-convert');\n",
              "      buttonEl.style.display =\n",
              "        google.colab.kernel.accessAllowed ? 'block' : 'none';\n",
              "\n",
              "      async function convertToInteractive(key) {\n",
              "        const element = document.querySelector('#df-d5b434a0-fa42-46c2-931e-89936232a2a3');\n",
              "        const dataTable =\n",
              "          await google.colab.kernel.invokeFunction('convertToInteractive',\n",
              "                                                    [key], {});\n",
              "        if (!dataTable) return;\n",
              "\n",
              "        const docLinkHtml = 'Like what you see? Visit the ' +\n",
              "          '<a target=\"_blank\" href=https://colab.research.google.com/notebooks/data_table.ipynb>data table notebook</a>'\n",
              "          + ' to learn more about interactive tables.';\n",
              "        element.innerHTML = '';\n",
              "        dataTable['output_type'] = 'display_data';\n",
              "        await google.colab.output.renderOutput(dataTable, element);\n",
              "        const docLink = document.createElement('div');\n",
              "        docLink.innerHTML = docLinkHtml;\n",
              "        element.appendChild(docLink);\n",
              "      }\n",
              "    </script>\n",
              "  </div>\n",
              "\n",
              "\n",
              "<div id=\"df-9d0b7925-b7a6-4ab4-bf8c-0c989d23f8ad\">\n",
              "  <button class=\"colab-df-quickchart\" onclick=\"quickchart('df-9d0b7925-b7a6-4ab4-bf8c-0c989d23f8ad')\"\n",
              "            title=\"Suggest charts\"\n",
              "            style=\"display:none;\">\n",
              "\n",
              "<svg xmlns=\"http://www.w3.org/2000/svg\" height=\"24px\"viewBox=\"0 0 24 24\"\n",
              "     width=\"24px\">\n",
              "    <g>\n",
              "        <path d=\"M19 3H5c-1.1 0-2 .9-2 2v14c0 1.1.9 2 2 2h14c1.1 0 2-.9 2-2V5c0-1.1-.9-2-2-2zM9 17H7v-7h2v7zm4 0h-2V7h2v10zm4 0h-2v-4h2v4z\"/>\n",
              "    </g>\n",
              "</svg>\n",
              "  </button>\n",
              "\n",
              "<style>\n",
              "  .colab-df-quickchart {\n",
              "      --bg-color: #E8F0FE;\n",
              "      --fill-color: #1967D2;\n",
              "      --hover-bg-color: #E2EBFA;\n",
              "      --hover-fill-color: #174EA6;\n",
              "      --disabled-fill-color: #AAA;\n",
              "      --disabled-bg-color: #DDD;\n",
              "  }\n",
              "\n",
              "  [theme=dark] .colab-df-quickchart {\n",
              "      --bg-color: #3B4455;\n",
              "      --fill-color: #D2E3FC;\n",
              "      --hover-bg-color: #434B5C;\n",
              "      --hover-fill-color: #FFFFFF;\n",
              "      --disabled-bg-color: #3B4455;\n",
              "      --disabled-fill-color: #666;\n",
              "  }\n",
              "\n",
              "  .colab-df-quickchart {\n",
              "    background-color: var(--bg-color);\n",
              "    border: none;\n",
              "    border-radius: 50%;\n",
              "    cursor: pointer;\n",
              "    display: none;\n",
              "    fill: var(--fill-color);\n",
              "    height: 32px;\n",
              "    padding: 0;\n",
              "    width: 32px;\n",
              "  }\n",
              "\n",
              "  .colab-df-quickchart:hover {\n",
              "    background-color: var(--hover-bg-color);\n",
              "    box-shadow: 0 1px 2px rgba(60, 64, 67, 0.3), 0 1px 3px 1px rgba(60, 64, 67, 0.15);\n",
              "    fill: var(--button-hover-fill-color);\n",
              "  }\n",
              "\n",
              "  .colab-df-quickchart-complete:disabled,\n",
              "  .colab-df-quickchart-complete:disabled:hover {\n",
              "    background-color: var(--disabled-bg-color);\n",
              "    fill: var(--disabled-fill-color);\n",
              "    box-shadow: none;\n",
              "  }\n",
              "\n",
              "  .colab-df-spinner {\n",
              "    border: 2px solid var(--fill-color);\n",
              "    border-color: transparent;\n",
              "    border-bottom-color: var(--fill-color);\n",
              "    animation:\n",
              "      spin 1s steps(1) infinite;\n",
              "  }\n",
              "\n",
              "  @keyframes spin {\n",
              "    0% {\n",
              "      border-color: transparent;\n",
              "      border-bottom-color: var(--fill-color);\n",
              "      border-left-color: var(--fill-color);\n",
              "    }\n",
              "    20% {\n",
              "      border-color: transparent;\n",
              "      border-left-color: var(--fill-color);\n",
              "      border-top-color: var(--fill-color);\n",
              "    }\n",
              "    30% {\n",
              "      border-color: transparent;\n",
              "      border-left-color: var(--fill-color);\n",
              "      border-top-color: var(--fill-color);\n",
              "      border-right-color: var(--fill-color);\n",
              "    }\n",
              "    40% {\n",
              "      border-color: transparent;\n",
              "      border-right-color: var(--fill-color);\n",
              "      border-top-color: var(--fill-color);\n",
              "    }\n",
              "    60% {\n",
              "      border-color: transparent;\n",
              "      border-right-color: var(--fill-color);\n",
              "    }\n",
              "    80% {\n",
              "      border-color: transparent;\n",
              "      border-right-color: var(--fill-color);\n",
              "      border-bottom-color: var(--fill-color);\n",
              "    }\n",
              "    90% {\n",
              "      border-color: transparent;\n",
              "      border-bottom-color: var(--fill-color);\n",
              "    }\n",
              "  }\n",
              "</style>\n",
              "\n",
              "  <script>\n",
              "    async function quickchart(key) {\n",
              "      const quickchartButtonEl =\n",
              "        document.querySelector('#' + key + ' button');\n",
              "      quickchartButtonEl.disabled = true;  // To prevent multiple clicks.\n",
              "      quickchartButtonEl.classList.add('colab-df-spinner');\n",
              "      try {\n",
              "        const charts = await google.colab.kernel.invokeFunction(\n",
              "            'suggestCharts', [key], {});\n",
              "      } catch (error) {\n",
              "        console.error('Error during call to suggestCharts:', error);\n",
              "      }\n",
              "      quickchartButtonEl.classList.remove('colab-df-spinner');\n",
              "      quickchartButtonEl.classList.add('colab-df-quickchart-complete');\n",
              "    }\n",
              "    (() => {\n",
              "      let quickchartButtonEl =\n",
              "        document.querySelector('#df-9d0b7925-b7a6-4ab4-bf8c-0c989d23f8ad button');\n",
              "      quickchartButtonEl.style.display =\n",
              "        google.colab.kernel.accessAllowed ? 'block' : 'none';\n",
              "    })();\n",
              "  </script>\n",
              "</div>\n",
              "    </div>\n",
              "  </div>\n"
            ]
          },
          "metadata": {},
          "execution_count": 350
        }
      ]
    },
    {
      "cell_type": "code",
      "source": [
        "test_norm.iloc[-1, :]"
      ],
      "metadata": {
        "colab": {
          "base_uri": "https://localhost:8080/"
        },
        "id": "6ORrfVezOGMg",
        "outputId": "cffde08e-b162-4918-f244-14072626f1a1"
      },
      "execution_count": null,
      "outputs": [
        {
          "output_type": "execute_result",
          "data": {
            "text/plain": [
              "date    28/11/2023\n",
              "b1         0.22449\n",
              "b2        0.306122\n",
              "b3        0.530612\n",
              "b4        0.653061\n",
              "b5        0.877551\n",
              "e1        0.545455\n",
              "e2        0.636364\n",
              "Name: 511, dtype: object"
            ]
          },
          "metadata": {},
          "execution_count": 351
        }
      ]
    },
    {
      "cell_type": "code",
      "source": [
        "train_norm = train_norm.drop('date', axis=1)\n",
        "test_norm = test_norm.drop('date', axis=1)"
      ],
      "metadata": {
        "id": "1YM4NvuddpwY"
      },
      "execution_count": null,
      "outputs": []
    },
    {
      "cell_type": "code",
      "source": [
        "rows = train_norm.values.shape[0]\n",
        "print(rows)\n",
        "W = 5\n",
        "features = train_norm.values.shape[1]\n",
        "features=7\n",
        "print(features)"
      ],
      "metadata": {
        "colab": {
          "base_uri": "https://localhost:8080/"
        },
        "id": "Sntr1Zf6dD5H",
        "outputId": "cc1883da-fb14-422c-8f5e-9808b746ede6"
      },
      "execution_count": null,
      "outputs": [
        {
          "output_type": "stream",
          "name": "stdout",
          "text": [
            "1176\n",
            "7\n"
          ]
        }
      ]
    },
    {
      "cell_type": "code",
      "execution_count": null,
      "metadata": {
        "id": "Y54R5K2CyMwe"
      },
      "outputs": [],
      "source": [
        "W = W # size of the window (previous draws)\n",
        "h = 1 # number of prediction draws forward"
      ]
    },
    {
      "cell_type": "code",
      "execution_count": null,
      "metadata": {
        "id": "AK7GZsixydEB"
      },
      "outputs": [],
      "source": [
        "X_train = np.empty([rows-W, W, features], dtype=float)\n",
        "y_train = np.empty([rows-W, features], dtype=float)\n",
        "\n",
        "for i in range(0, rows-W):\n",
        "  X_train[i] = train_norm.iloc[i:i+W, 0:features]\n",
        "  y_train[i] = train_norm.iloc[i+W:i+W+1, 0:features]"
      ]
    },
    {
      "cell_type": "code",
      "source": [
        "X_train, X_val = train_test_split(X_train, test_size=0.2, shuffle=False)\n",
        "y_train, y_val = train_test_split(y_train, test_size=0.2, shuffle=False)"
      ],
      "metadata": {
        "id": "wqM8C_A_yYfq"
      },
      "execution_count": null,
      "outputs": []
    },
    {
      "cell_type": "code",
      "source": [
        "print(X_train.shape)\n",
        "print(y_train.shape)\n",
        "print(X_val.shape)\n",
        "print(y_val.shape)"
      ],
      "metadata": {
        "colab": {
          "base_uri": "https://localhost:8080/"
        },
        "id": "wWo8NPT9Ee6E",
        "outputId": "4da6abe2-0205-4299-8de3-b20d985706b6"
      },
      "execution_count": null,
      "outputs": [
        {
          "output_type": "stream",
          "name": "stdout",
          "text": [
            "(936, 5, 7)\n",
            "(936, 7)\n",
            "(235, 5, 7)\n",
            "(235, 7)\n"
          ]
        }
      ]
    },
    {
      "cell_type": "code",
      "source": [
        "X_test = np.empty([test_norm.values.shape[0]-W, W, features], dtype=float)\n",
        "y_test = np.empty([test_norm.values.shape[0]-W, features], dtype=float)\n",
        "\n",
        "for i in range(0, test.values.shape[0]-W):\n",
        "  X_test[i] = test_norm.iloc[i:i+W, 0:features]\n",
        "  y_test[i] = test_norm.iloc[i+W:i+W+1, 0:features]"
      ],
      "metadata": {
        "id": "919PVNrTfA4f"
      },
      "execution_count": null,
      "outputs": []
    },
    {
      "cell_type": "code",
      "source": [
        "print(X_test.shape)\n",
        "print(y_test.shape)"
      ],
      "metadata": {
        "colab": {
          "base_uri": "https://localhost:8080/"
        },
        "id": "Grltw2HRbUrP",
        "outputId": "a525bed2-a206-48e1-e15e-9dab50494a9a"
      },
      "execution_count": null,
      "outputs": [
        {
          "output_type": "stream",
          "name": "stdout",
          "text": [
            "(507, 5, 7)\n",
            "(507, 7)\n"
          ]
        }
      ]
    },
    {
      "cell_type": "markdown",
      "source": [
        "# 4. GRU ATENCIÓN"
      ],
      "metadata": {
        "id": "Wx6LGg0qadhS"
      }
    },
    {
      "cell_type": "code",
      "source": [
        "def tf_symmetric_mean_absolute_percentage_error(labels, predictions):\n",
        "    diff = tf.abs(labels - predictions)\n",
        "    smape = tf.reduce_mean(diff / (tf.abs(labels) + tf.abs(predictions))) * 200\n",
        "    return smape\n",
        "\n",
        "def symmetric_mean_absolute_percentage_error(labels, predictions):\n",
        "    diff = np.abs(labels - predictions)\n",
        "    smape = np.mean(diff / (np.abs(labels) + np.abs(predictions))) * 200\n",
        "    return smape"
      ],
      "metadata": {
        "id": "uRs_xeYxb2bq"
      },
      "execution_count": null,
      "outputs": []
    },
    {
      "cell_type": "code",
      "source": [
        "def build_model():\n",
        "\n",
        "  input = Input(name='series', shape=(W, features))\n",
        "\n",
        "  latent_dim = 64\n",
        "\n",
        "  #seed=100\n",
        "\n",
        "  # RNN\n",
        "\n",
        "  rnn_latent = GRU(latent_dim,\n",
        "            name='gru',\n",
        "            return_sequences=True)(input)\n",
        "\n",
        "  #rnn_latent = Dense(latent_dim, activation='relu', name='rnn_dense', kernel_initializer=tf.keras.initializers.GlorotUniform(seed=seed))(gru)\n",
        "  #rnn_latent_reshape = Reshape((latent_dim, 1), name='rnn_latent_reshape')(gru)\n",
        "\n",
        "   # Attention\n",
        "  attention = Attention(name='attention')([rnn_latent, rnn_latent])\n",
        "  latent_concat = tf.keras.layers.Concatenate(name='concat_attention')([rnn_latent, attention])\n",
        "\n",
        "  flat = Flatten(name='flat_latent')(latent_concat)\n",
        "\n",
        "  rnn_dense = Dense(128, activation='relu', name='rnn_dense')(flat)\n",
        "  #rnn_dense_b = Dense(latent_dim*5, activation='relu', name='rnn_dense_b')(rnn_dense)\n",
        "\n",
        "\n",
        "  # Concat\n",
        "  #combined_concat = Concatenate(name='combined_concat')([cnn_latent, rnn_dense])\n",
        "\n",
        "  #combined_dense = Dense(128, activation='relu', name='combined_dense', kernel_initializer=tf.keras.initializers.GlorotUniform(seed=seed))(combined_concat)\n",
        "\n",
        "  #combined_dense_2 = Dense(2*h_base, activation='relu', name='combined_dense_2', kernel_initializer=tf.keras.initializers.GlorotUniform(seed=seed))(combined_dense)\n",
        "\n",
        "  # Output\n",
        "  output = Dense(features,activation='linear', name='final_output')(rnn_dense)\n",
        "\n",
        "  #model = Model(inputs=[input, input_image], outputs=output, name='cnn_rnn')\n",
        "  model = Model(inputs=input, outputs=output, name='cnn_rnn')\n",
        "\n",
        "  model.compile(loss='mean_absolute_error',\n",
        "                  optimizer=optimizers.Adam(1e-3),\n",
        "                  metrics=[keras.metrics.MAPE, keras.metrics.MSE, keras.metrics.RootMeanSquaredError(), tf_symmetric_mean_absolute_percentage_error])\n",
        "  return model"
      ],
      "metadata": {
        "id": "ywYvLDpYae5r"
      },
      "execution_count": null,
      "outputs": []
    },
    {
      "cell_type": "code",
      "source": [
        "# Directorio de trabajo y nombre del proyecto (dd-mm-aaaa)\n",
        "workingDir = data_path+f'/test_0'\n",
        "#os.mkdir(workingDir)"
      ],
      "metadata": {
        "id": "KsdIdr3vaunj"
      },
      "execution_count": null,
      "outputs": []
    },
    {
      "cell_type": "code",
      "source": [
        "# Definir el callback de EarlyStopping\n",
        "early_stopping = EarlyStopping(monitor='val_loss', patience=20, restore_best_weights=True)\n",
        "reduce_lr = ReduceLROnPlateau(monitor=\"val_loss\", factor=0.8, patience=10, min_lr=1e-7)"
      ],
      "metadata": {
        "id": "8664yyAfax5q"
      },
      "execution_count": null,
      "outputs": []
    },
    {
      "cell_type": "code",
      "source": [
        "model = build_model()"
      ],
      "metadata": {
        "id": "m9voHfPAa0Ir"
      },
      "execution_count": null,
      "outputs": []
    },
    {
      "cell_type": "code",
      "source": [
        "model.summary()"
      ],
      "metadata": {
        "colab": {
          "base_uri": "https://localhost:8080/"
        },
        "id": "xZcJXAKha0-6",
        "outputId": "84b12f05-faad-4d18-c063-4d9ffeafac63"
      },
      "execution_count": null,
      "outputs": [
        {
          "output_type": "stream",
          "name": "stdout",
          "text": [
            "Model: \"cnn_rnn\"\n",
            "__________________________________________________________________________________________________\n",
            " Layer (type)                Output Shape                 Param #   Connected to                  \n",
            "==================================================================================================\n",
            " series (InputLayer)         [(None, 5, 7)]               0         []                            \n",
            "                                                                                                  \n",
            " gru (GRU)                   (None, 5, 64)                14016     ['series[0][0]']              \n",
            "                                                                                                  \n",
            " attention (Attention)       (None, 5, 64)                0         ['gru[0][0]',                 \n",
            "                                                                     'gru[0][0]']                 \n",
            "                                                                                                  \n",
            " concat_attention (Concaten  (None, 5, 128)               0         ['gru[0][0]',                 \n",
            " ate)                                                                'attention[0][0]']           \n",
            "                                                                                                  \n",
            " flat_latent (Flatten)       (None, 640)                  0         ['concat_attention[0][0]']    \n",
            "                                                                                                  \n",
            " rnn_dense (Dense)           (None, 128)                  82048     ['flat_latent[0][0]']         \n",
            "                                                                                                  \n",
            " final_output (Dense)        (None, 7)                    903       ['rnn_dense[0][0]']           \n",
            "                                                                                                  \n",
            "==================================================================================================\n",
            "Total params: 96967 (378.78 KB)\n",
            "Trainable params: 96967 (378.78 KB)\n",
            "Non-trainable params: 0 (0.00 Byte)\n",
            "__________________________________________________________________________________________________\n"
          ]
        }
      ]
    },
    {
      "cell_type": "code",
      "source": [
        "keras.utils.plot_model(model, to_file=workingDir+f'/test_0.png')"
      ],
      "metadata": {
        "colab": {
          "base_uri": "https://localhost:8080/",
          "height": 661
        },
        "id": "AV-g1lm3a2LK",
        "outputId": "f1f9dff5-b4b7-4663-9851-962390b6c7a6"
      },
      "execution_count": null,
      "outputs": [
        {
          "output_type": "execute_result",
          "data": {
            "image/png": "[encoded data removed]",
            "text/plain": [
              "<IPython.core.display.Image object>"
            ]
          },
          "metadata": {},
          "execution_count": 384
        }
      ]
    },
    {
      "cell_type": "code",
      "source": [
        "checkpoint_filepath = workingDir+f'test_0.h5'\n",
        "model_checkpoint_callback = ModelCheckpoint(\n",
        "    filepath=checkpoint_filepath,\n",
        "    monitor='val_loss',\n",
        "    mode='min',\n",
        "    save_best_only=True)"
      ],
      "metadata": {
        "id": "O9MyxBHra8ha"
      },
      "execution_count": null,
      "outputs": []
    },
    {
      "cell_type": "code",
      "source": [
        "# Definir callBacks para guardar metricas y las epochas y modelos en cada una de las epocas\n",
        "logger = keras.callbacks.CSVLogger(workingDir+'/test_0.log')\n",
        "\n",
        "batch_size=128\n",
        "\n",
        "#Seguir entrenando el modelo hasta completar todas las epocas\n",
        "train_tiempo_inicial = time.time()\n",
        "history = model.fit(x=X_train, y=y_train,\n",
        "                    epochs=500,\n",
        "                    batch_size=batch_size,\n",
        "                    verbose=1,\n",
        "                    steps_per_epoch=len(X_train)/batch_size,\n",
        "                    validation_data=(X_val, y_val),\n",
        "                    callbacks=[logger,model_checkpoint_callback, reduce_lr, early_stopping])\n",
        "train_tiempo_final = time.time()"
      ],
      "metadata": {
        "colab": {
          "base_uri": "https://localhost:8080/"
        },
        "id": "UL9JWf9Ya9sa",
        "outputId": "ff679389-74a4-4086-aa37-906d61d3b998"
      },
      "execution_count": null,
      "outputs": [
        {
          "output_type": "stream",
          "name": "stdout",
          "text": [
            "Epoch 1/500\n",
            "8/7 [================================] - ETA: 0s - loss: 0.3084 - mean_absolute_percentage_error: 15637837.0000 - mean_squared_error: 0.1423 - root_mean_squared_error: 0.3772 - tf_symmetric_mean_absolute_percentage_error: 80.6997"
          ]
        },
        {
          "output_type": "stream",
          "name": "stderr",
          "text": [
            "/usr/local/lib/python3.10/dist-packages/keras/src/engine/training.py:3079: UserWarning: You are saving your model as an HDF5 file via `model.save()`. This file format is considered legacy. We recommend using instead the native Keras format, e.g. `model.save('my_model.keras')`.\n",
            "  saving_api.save_model(\n"
          ]
        },
        {
          "output_type": "stream",
          "name": "stdout",
          "text": [
            "\b\b\b\b\b\b\b\b\b\b\b\b\b\b\b\b\b\b\b\b\b\b\b\b\b\b\b\b\b\b\b\b\b\b\b\b\b\b\b\b\b\b\b\b\b\b\b\b\b\b\b\b\b\b\b\b\b\b\b\b\b\b\b\b\b\b\b\b\b\b\b\b\b\b\b\b\b\b\b\b\b\b\b\b\b\b\b\b\b\b\b\b\b\b\b\b\b\b\b\b\b\b\b\b\b\b\b\b\b\b\b\b\b\b\b\b\b\b\b\b\b\b\b\b\b\b\b\b\b\b\b\b\b\b\b\b\b\b\b\b\b\b\b\b\b\b\b\b\b\b\b\b\b\b\b\b\b\b\b\b\b\b\b\b\b\b\b\b\b\b\b\b\b\b\b\b\b\b\b\b\b\b\b\b\b\b\b\b\b\b\b\b\b\b\b\b\b\b\b\b\b\b\b\b\b\b\b\b\b\b\b\b\b\b\b\b\b\b\b\b\b\b\b\b\b\b\b\b\b\r7/7 [==============================] - 4s 155ms/step - loss: 0.3084 - mean_absolute_percentage_error: 15637837.0000 - mean_squared_error: 0.1423 - root_mean_squared_error: 0.3772 - tf_symmetric_mean_absolute_percentage_error: 80.6997 - val_loss: 0.2742 - val_mean_absolute_percentage_error: 18819342.0000 - val_mean_squared_error: 0.1027 - val_root_mean_squared_error: 0.3204 - val_tf_symmetric_mean_absolute_percentage_error: 61.8097 - lr: 0.0010\n",
            "Epoch 2/500\n",
            "7/7 [==============================] - 0s 24ms/step - loss: 0.2574 - mean_absolute_percentage_error: 18963962.0000 - mean_squared_error: 0.0914 - root_mean_squared_error: 0.3024 - tf_symmetric_mean_absolute_percentage_error: 62.8688 - val_loss: 0.2748 - val_mean_absolute_percentage_error: 13130113.0000 - val_mean_squared_error: 0.1062 - val_root_mean_squared_error: 0.3258 - val_tf_symmetric_mean_absolute_percentage_error: 65.2214 - lr: 0.0010\n",
            "Epoch 3/500\n",
            "7/7 [==============================] - 0s 27ms/step - loss: 0.2540 - mean_absolute_percentage_error: 17292336.0000 - mean_squared_error: 0.0884 - root_mean_squared_error: 0.2973 - tf_symmetric_mean_absolute_percentage_error: 62.7783 - val_loss: 0.2678 - val_mean_absolute_percentage_error: 16699195.0000 - val_mean_squared_error: 0.0965 - val_root_mean_squared_error: 0.3107 - val_tf_symmetric_mean_absolute_percentage_error: 61.8433 - lr: 0.0010\n",
            "Epoch 4/500\n",
            "7/7 [==============================] - 0s 29ms/step - loss: 0.2519 - mean_absolute_percentage_error: 20429938.0000 - mean_squared_error: 0.0867 - root_mean_squared_error: 0.2945 - tf_symmetric_mean_absolute_percentage_error: 61.0268 - val_loss: 0.2671 - val_mean_absolute_percentage_error: 15348470.0000 - val_mean_squared_error: 0.0963 - val_root_mean_squared_error: 0.3104 - val_tf_symmetric_mean_absolute_percentage_error: 62.6031 - lr: 0.0010\n",
            "Epoch 5/500\n",
            "7/7 [==============================] - 0s 22ms/step - loss: 0.2523 - mean_absolute_percentage_error: 17852238.0000 - mean_squared_error: 0.0877 - root_mean_squared_error: 0.2961 - tf_symmetric_mean_absolute_percentage_error: 62.6194 - val_loss: 0.2700 - val_mean_absolute_percentage_error: 15268491.0000 - val_mean_squared_error: 0.0987 - val_root_mean_squared_error: 0.3142 - val_tf_symmetric_mean_absolute_percentage_error: 63.0436 - lr: 0.0010\n",
            "Epoch 6/500\n",
            "7/7 [==============================] - 0s 23ms/step - loss: 0.2510 - mean_absolute_percentage_error: 19229238.0000 - mean_squared_error: 0.0865 - root_mean_squared_error: 0.2941 - tf_symmetric_mean_absolute_percentage_error: 61.1503 - val_loss: 0.2679 - val_mean_absolute_percentage_error: 16364947.0000 - val_mean_squared_error: 0.0966 - val_root_mean_squared_error: 0.3108 - val_tf_symmetric_mean_absolute_percentage_error: 62.0544 - lr: 0.0010\n",
            "Epoch 7/500\n",
            "7/7 [==============================] - 0s 22ms/step - loss: 0.2501 - mean_absolute_percentage_error: 19084782.0000 - mean_squared_error: 0.0857 - root_mean_squared_error: 0.2928 - tf_symmetric_mean_absolute_percentage_error: 61.5215 - val_loss: 0.2693 - val_mean_absolute_percentage_error: 15521875.0000 - val_mean_squared_error: 0.0980 - val_root_mean_squared_error: 0.3131 - val_tf_symmetric_mean_absolute_percentage_error: 62.6668 - lr: 0.0010\n",
            "Epoch 8/500\n",
            "7/7 [==============================] - 0s 24ms/step - loss: 0.2485 - mean_absolute_percentage_error: 18865354.0000 - mean_squared_error: 0.0846 - root_mean_squared_error: 0.2908 - tf_symmetric_mean_absolute_percentage_error: 61.0552 - val_loss: 0.2685 - val_mean_absolute_percentage_error: 15997770.0000 - val_mean_squared_error: 0.0974 - val_root_mean_squared_error: 0.3121 - val_tf_symmetric_mean_absolute_percentage_error: 62.2651 - lr: 0.0010\n",
            "Epoch 9/500\n",
            "7/7 [==============================] - 0s 20ms/step - loss: 0.2478 - mean_absolute_percentage_error: 19067522.0000 - mean_squared_error: 0.0842 - root_mean_squared_error: 0.2901 - tf_symmetric_mean_absolute_percentage_error: 61.0905 - val_loss: 0.2689 - val_mean_absolute_percentage_error: 15999511.0000 - val_mean_squared_error: 0.0977 - val_root_mean_squared_error: 0.3125 - val_tf_symmetric_mean_absolute_percentage_error: 62.6860 - lr: 0.0010\n",
            "Epoch 10/500\n",
            "7/7 [==============================] - 0s 25ms/step - loss: 0.2491 - mean_absolute_percentage_error: 18287202.0000 - mean_squared_error: 0.0856 - root_mean_squared_error: 0.2926 - tf_symmetric_mean_absolute_percentage_error: 61.2772 - val_loss: 0.2693 - val_mean_absolute_percentage_error: 15687782.0000 - val_mean_squared_error: 0.0981 - val_root_mean_squared_error: 0.3132 - val_tf_symmetric_mean_absolute_percentage_error: 62.5609 - lr: 0.0010\n",
            "Epoch 11/500\n",
            "7/7 [==============================] - 0s 21ms/step - loss: 0.2480 - mean_absolute_percentage_error: 18602342.0000 - mean_squared_error: 0.0845 - root_mean_squared_error: 0.2906 - tf_symmetric_mean_absolute_percentage_error: 60.8179 - val_loss: 0.2695 - val_mean_absolute_percentage_error: 16342586.0000 - val_mean_squared_error: 0.0981 - val_root_mean_squared_error: 0.3132 - val_tf_symmetric_mean_absolute_percentage_error: 62.4774 - lr: 0.0010\n",
            "Epoch 12/500\n",
            "7/7 [==============================] - 0s 20ms/step - loss: 0.2474 - mean_absolute_percentage_error: 19447342.0000 - mean_squared_error: 0.0842 - root_mean_squared_error: 0.2901 - tf_symmetric_mean_absolute_percentage_error: 60.9467 - val_loss: 0.2680 - val_mean_absolute_percentage_error: 15700625.0000 - val_mean_squared_error: 0.0969 - val_root_mean_squared_error: 0.3113 - val_tf_symmetric_mean_absolute_percentage_error: 62.4818 - lr: 0.0010\n",
            "Epoch 13/500\n",
            "7/7 [==============================] - 0s 23ms/step - loss: 0.2467 - mean_absolute_percentage_error: 18344826.0000 - mean_squared_error: 0.0838 - root_mean_squared_error: 0.2895 - tf_symmetric_mean_absolute_percentage_error: 60.8549 - val_loss: 0.2694 - val_mean_absolute_percentage_error: 16000560.0000 - val_mean_squared_error: 0.0982 - val_root_mean_squared_error: 0.3134 - val_tf_symmetric_mean_absolute_percentage_error: 62.5899 - lr: 0.0010\n",
            "Epoch 14/500\n",
            "7/7 [==============================] - 0s 24ms/step - loss: 0.2468 - mean_absolute_percentage_error: 19147352.0000 - mean_squared_error: 0.0840 - root_mean_squared_error: 0.2898 - tf_symmetric_mean_absolute_percentage_error: 60.6258 - val_loss: 0.2673 - val_mean_absolute_percentage_error: 15661054.0000 - val_mean_squared_error: 0.0969 - val_root_mean_squared_error: 0.3112 - val_tf_symmetric_mean_absolute_percentage_error: 62.5231 - lr: 0.0010\n",
            "Epoch 15/500\n",
            "7/7 [==============================] - 0s 21ms/step - loss: 0.2468 - mean_absolute_percentage_error: 19122960.0000 - mean_squared_error: 0.0843 - root_mean_squared_error: 0.2903 - tf_symmetric_mean_absolute_percentage_error: 61.3564 - val_loss: 0.2693 - val_mean_absolute_percentage_error: 16096947.0000 - val_mean_squared_error: 0.0985 - val_root_mean_squared_error: 0.3138 - val_tf_symmetric_mean_absolute_percentage_error: 62.5959 - lr: 8.0000e-04\n",
            "Epoch 16/500\n",
            "7/7 [==============================] - 0s 21ms/step - loss: 0.2462 - mean_absolute_percentage_error: 18554352.0000 - mean_squared_error: 0.0836 - root_mean_squared_error: 0.2891 - tf_symmetric_mean_absolute_percentage_error: 60.9571 - val_loss: 0.2685 - val_mean_absolute_percentage_error: 15586291.0000 - val_mean_squared_error: 0.0977 - val_root_mean_squared_error: 0.3125 - val_tf_symmetric_mean_absolute_percentage_error: 62.6920 - lr: 8.0000e-04\n",
            "Epoch 17/500\n",
            "7/7 [==============================] - 0s 22ms/step - loss: 0.2456 - mean_absolute_percentage_error: 18451300.0000 - mean_squared_error: 0.0832 - root_mean_squared_error: 0.2885 - tf_symmetric_mean_absolute_percentage_error: 60.7364 - val_loss: 0.2700 - val_mean_absolute_percentage_error: 16126961.0000 - val_mean_squared_error: 0.0988 - val_root_mean_squared_error: 0.3143 - val_tf_symmetric_mean_absolute_percentage_error: 62.6564 - lr: 8.0000e-04\n",
            "Epoch 18/500\n",
            "7/7 [==============================] - 0s 22ms/step - loss: 0.2460 - mean_absolute_percentage_error: 18955312.0000 - mean_squared_error: 0.0839 - root_mean_squared_error: 0.2896 - tf_symmetric_mean_absolute_percentage_error: 60.5686 - val_loss: 0.2696 - val_mean_absolute_percentage_error: 15767968.0000 - val_mean_squared_error: 0.0985 - val_root_mean_squared_error: 0.3139 - val_tf_symmetric_mean_absolute_percentage_error: 62.8601 - lr: 8.0000e-04\n",
            "Epoch 19/500\n",
            "7/7 [==============================] - 0s 20ms/step - loss: 0.2455 - mean_absolute_percentage_error: 17980162.0000 - mean_squared_error: 0.0835 - root_mean_squared_error: 0.2890 - tf_symmetric_mean_absolute_percentage_error: 60.7400 - val_loss: 0.2708 - val_mean_absolute_percentage_error: 16049922.0000 - val_mean_squared_error: 0.0994 - val_root_mean_squared_error: 0.3153 - val_tf_symmetric_mean_absolute_percentage_error: 62.8382 - lr: 8.0000e-04\n",
            "Epoch 20/500\n",
            "7/7 [==============================] - 0s 24ms/step - loss: 0.2459 - mean_absolute_percentage_error: 19322106.0000 - mean_squared_error: 0.0843 - root_mean_squared_error: 0.2904 - tf_symmetric_mean_absolute_percentage_error: 60.6114 - val_loss: 0.2706 - val_mean_absolute_percentage_error: 16105291.0000 - val_mean_squared_error: 0.0995 - val_root_mean_squared_error: 0.3155 - val_tf_symmetric_mean_absolute_percentage_error: 62.8985 - lr: 8.0000e-04\n",
            "Epoch 21/500\n",
            "7/7 [==============================] - 0s 22ms/step - loss: 0.2467 - mean_absolute_percentage_error: 18168878.0000 - mean_squared_error: 0.0848 - root_mean_squared_error: 0.2912 - tf_symmetric_mean_absolute_percentage_error: 60.9423 - val_loss: 0.2715 - val_mean_absolute_percentage_error: 15522497.0000 - val_mean_squared_error: 0.1002 - val_root_mean_squared_error: 0.3165 - val_tf_symmetric_mean_absolute_percentage_error: 63.1043 - lr: 8.0000e-04\n",
            "Epoch 22/500\n",
            "7/7 [==============================] - 0s 20ms/step - loss: 0.2455 - mean_absolute_percentage_error: 18793788.0000 - mean_squared_error: 0.0838 - root_mean_squared_error: 0.2895 - tf_symmetric_mean_absolute_percentage_error: 60.4868 - val_loss: 0.2707 - val_mean_absolute_percentage_error: 16810416.0000 - val_mean_squared_error: 0.0993 - val_root_mean_squared_error: 0.3151 - val_tf_symmetric_mean_absolute_percentage_error: 62.5451 - lr: 8.0000e-04\n",
            "Epoch 23/500\n",
            "7/7 [==============================] - 0s 22ms/step - loss: 0.2446 - mean_absolute_percentage_error: 18815514.0000 - mean_squared_error: 0.0831 - root_mean_squared_error: 0.2883 - tf_symmetric_mean_absolute_percentage_error: 61.0660 - val_loss: 0.2714 - val_mean_absolute_percentage_error: 15073239.0000 - val_mean_squared_error: 0.1004 - val_root_mean_squared_error: 0.3169 - val_tf_symmetric_mean_absolute_percentage_error: 63.4411 - lr: 8.0000e-04\n",
            "Epoch 24/500\n",
            "7/7 [==============================] - 0s 33ms/step - loss: 0.2450 - mean_absolute_percentage_error: 18229926.0000 - mean_squared_error: 0.0837 - root_mean_squared_error: 0.2893 - tf_symmetric_mean_absolute_percentage_error: 61.0257 - val_loss: 0.2716 - val_mean_absolute_percentage_error: 16431799.0000 - val_mean_squared_error: 0.1001 - val_root_mean_squared_error: 0.3164 - val_tf_symmetric_mean_absolute_percentage_error: 62.8904 - lr: 8.0000e-04\n"
          ]
        }
      ]
    },
    {
      "cell_type": "code",
      "source": [
        "print(f\"TRAINING TIME: {train_tiempo_final-train_tiempo_inicial} seconds\")\n",
        "print(f\"TRAINING TIME: {(train_tiempo_final-train_tiempo_inicial)/60} minutes\")\n",
        "print(f\"TRAINING TIME: {(train_tiempo_final-train_tiempo_inicial)/3600} hours\")"
      ],
      "metadata": {
        "id": "K8cDpInpbDJK",
        "colab": {
          "base_uri": "https://localhost:8080/"
        },
        "outputId": "9731e111-6484-4fd4-bea3-3a6031a86a7f"
      },
      "execution_count": null,
      "outputs": [
        {
          "output_type": "stream",
          "name": "stdout",
          "text": [
            "TRAINING TIME: 7.580690860748291 seconds\n",
            "TRAINING TIME: 0.12634484767913817 minutes\n",
            "TRAINING TIME: 0.00210574746131897 hours\n"
          ]
        }
      ]
    },
    {
      "cell_type": "code",
      "source": [
        "prediction = model.predict(X_test[-2:-1], verbose=0)\n",
        "print(X_test[-2:-1])\n",
        "print(prediction)"
      ],
      "metadata": {
        "colab": {
          "base_uri": "https://localhost:8080/"
        },
        "id": "lkcwN3FMkd8_",
        "outputId": "76b5c581-f753-4905-8ebf-f19c85a78e6a"
      },
      "execution_count": null,
      "outputs": [
        {
          "output_type": "stream",
          "name": "stdout",
          "text": [
            "[[[0.14285714 0.18367347 0.20408163 0.59183673 0.7755102  0.27272727\n",
            "   0.81818182]\n",
            "  [0.18367347 0.40816327 0.59183673 0.75510204 0.83673469 0.09090909\n",
            "   1.        ]\n",
            "  [0.34693878 0.55102041 0.69387755 0.71428571 0.81632653 0.45454545\n",
            "   0.90909091]\n",
            "  [0.02040816 0.46938776 0.51020408 0.91836735 1.         0.09090909\n",
            "   0.54545455]\n",
            "  [0.36734694 0.57142857 0.67346939 0.91836735 0.93877551 0.09090909\n",
            "   0.18181818]]]\n",
            "[[0.4495874  0.5785092  0.50206447 0.5624735  0.57554    0.3864503\n",
            "  0.64061946]]\n"
          ]
        }
      ]
    },
    {
      "cell_type": "code",
      "source": [
        "prediction_real = prediction[0].copy()\n",
        "prediction_real[:5] = prediction_real[:5]*(50-1) + 1\n",
        "prediction_real[5:] = prediction_real[5:]*(12-1) + 1\n",
        "print(prediction_real)\n",
        "for i in range(features):\n",
        "  prediction_real[i] = round(prediction_real[i])\n",
        "print(prediction_real)\n",
        "\n",
        "am = y_test[-2:-1][0].copy()\n",
        "am[:5] = am[:5]*(50-1) + 1\n",
        "am[5:] = am[5:]*(12-1) + 1\n",
        "print(am)"
      ],
      "metadata": {
        "colab": {
          "base_uri": "https://localhost:8080/"
        },
        "id": "H2EVL638lz53",
        "outputId": "945b617c-7b19-4709-ca0f-1e911faec850"
      },
      "execution_count": null,
      "outputs": [
        {
          "output_type": "stream",
          "name": "stdout",
          "text": [
            "[28.31321   24.80722   25.46293   28.437061  31.216227   5.934023\n",
            "  7.2879057]\n",
            "[28. 25. 25. 28. 31.  6.  7.]\n",
            "[15. 20. 29. 39. 48.  1.  7.]\n"
          ]
        }
      ]
    },
    {
      "cell_type": "code",
      "source": [
        "test_s = np.empty([1, W, features], dtype=float)\n",
        "test_s[0] = test_norm.iloc[-W:,:]\n",
        "#print(test_s[0])\n",
        "prediction_2 = model.predict(test_s, verbose=0)\n",
        "print(prediction_2)\n",
        "\n",
        "prediction_real_2 = prediction_2[0].copy()\n",
        "print(prediction_real_2)\n",
        "prediction_real_2[:5] = prediction_real_2[:5]*(50-1) + 1\n",
        "prediction_real_2[5:] = prediction_real_2[5:]*(12-1) + 1\n",
        "print(prediction_real_2)\n",
        "for i in range(features):\n",
        "  prediction_real_2[i] = round(prediction_real_2[i])\n",
        "print(prediction_real_2)\n"
      ],
      "metadata": {
        "colab": {
          "base_uri": "https://localhost:8080/"
        },
        "id": "KaceN_MgOyml",
        "outputId": "855b0457-59b8-4da9-9b89-205a00e022ae"
      },
      "execution_count": null,
      "outputs": [
        {
          "output_type": "stream",
          "name": "stdout",
          "text": [
            "[[0.5556564  0.50091565 0.50907344 0.54488575 0.57074606 0.44946343\n",
            "  0.5306557 ]]\n",
            "[0.5556564  0.50091565 0.50907344 0.54488575 0.57074606 0.44946343\n",
            " 0.5306557 ]\n",
            "[28.227161  25.544867  25.9446    27.699402  28.966557   5.9440975\n",
            "  6.8372126]\n",
            "[28. 26. 26. 28. 29.  6.  7.]\n"
          ]
        }
      ]
    },
    {
      "cell_type": "code",
      "source": [
        "test_tiempo_inicial = time.time()\n",
        "test_loss, test_tf_symmetric_mean_absolute_percentage_error, mean_absolute_percentage_error, mean_squared_error, rooted_mean_squared_error = model.evaluate(x=X_test, y=y_test,\n",
        "                                                                                                                                                                  batch_size=batch_size,\n",
        "                                                                                                                                                                  steps=len(X_test)/batch_size,\n",
        "                                                                                                                                                                  verbose=1)\n",
        "test_tiempo_final = time.time()\n",
        "\n",
        "print(f\"Test loss (MAE): {test_loss}\")\n",
        "print(f\"Test MAPE: {mean_absolute_percentage_error}\")\n",
        "print(f\"Test sMAPE: {test_tf_symmetric_mean_absolute_percentage_error}\")\n",
        "print(f\"Test MSE: {mean_squared_error}\")\n",
        "print(f\"Test RMSE: {rooted_mean_squared_error}\")\n",
        "\n",
        "print(f\"TEST TIME: {test_tiempo_final-test_tiempo_inicial} seconds\")\n",
        "print(f\"TEST TIME: {(test_tiempo_final-test_tiempo_inicial)/60} minutes\")\n",
        "print(f\"TEST TIME: {(test_tiempo_final-test_tiempo_inicial)/3600} hours\")"
      ],
      "metadata": {
        "colab": {
          "base_uri": "https://localhost:8080/"
        },
        "id": "wBXoDlVwfhCX",
        "outputId": "28359c1c-0107-4abd-f704-b22d3f10cd4b"
      },
      "execution_count": null,
      "outputs": [
        {
          "output_type": "stream",
          "name": "stdout",
          "text": [
            "3/3 [==============================] - 0s 7ms/step - loss: 0.2581 - mean_absolute_percentage_error: 16008904.0000 - mean_squared_error: 0.0900 - root_mean_squared_error: 0.3000 - tf_symmetric_mean_absolute_percentage_error: 59.8262\n",
            "Test loss (MAE): 0.2581363022327423\n",
            "Test MAPE: 0.0900082066655159\n",
            "Test sMAPE: 16008904.0\n",
            "Test MSE: 0.3000136911869049\n",
            "Test RMSE: 59.82616424560547\n",
            "TEST TIME: 0.1040036678314209 seconds\n",
            "TEST TIME: 0.001733394463857015 minutes\n",
            "TEST TIME: 2.8889907730950248e-05 hours\n"
          ]
        }
      ]
    },
    {
      "cell_type": "code",
      "source": [
        "smape = []\n",
        "mape = []\n",
        "mse = []\n",
        "rmse = []\n",
        "\n",
        "prediction_time = 0\n",
        "\n",
        "for i in range(len(X_test)):\n",
        "  window = X_test[i:i+1]\n",
        "\n",
        "  prediction_start = time.time()\n",
        "  labels_predict = model.predict(window, verbose=0)\n",
        "  prediction_end = time.time()\n",
        "\n",
        "  prediction_time += (prediction_end-prediction_start)\n",
        "\n",
        "  window[:,:6] = window[:,:6]*(50-1) + 1\n",
        "  window[:,6:] = window[:,6:]*(12-1) + 1\n",
        "\n",
        "  labels = y_test[i]\n",
        "  labels[:,:6] = labels[:,:6]*(50-1) + 1\n",
        "  labels[:,6:] = labels[:,6:]*(12-1) + 1\n",
        "\n",
        "  prediction_real = labels_predict[0]\n",
        "  prediction_real[:,:6] = prediction_real[:,:6]*(50-1) + 1\n",
        "  prediction_real[:,6:] = prediction_real[:,6:]*(12-1) + 1\n",
        "\n",
        "  new_mse = keras.metrics.MSE(labels, prediction_real)\n",
        "\n",
        "  smape.append(symmetric_mean_absolute_percentage_error(labels, prediction_real))\n",
        "  mape.append(keras.metrics.MAPE(labels, prediction_real))\n",
        "  mse.append(new_mse)\n",
        "  score = tf.keras.metrics.RootMeanSquaredError()\n",
        "  score.update_state(labels, prediction_real)\n",
        "  rmse_value = score.result().numpy()\n",
        "  rmse.append(rmse_value)"
      ],
      "metadata": {
        "colab": {
          "base_uri": "https://localhost:8080/",
          "height": 246
        },
        "id": "ZJkXet1Qfy4K",
        "outputId": "81228bf5-e5eb-415b-b189-bdbf2114be1e"
      },
      "execution_count": null,
      "outputs": [
        {
          "output_type": "error",
          "ename": "IndexError",
          "evalue": "ignored",
          "traceback": [
            "\u001b[0;31m---------------------------------------------------------------------------\u001b[0m",
            "\u001b[0;31mIndexError\u001b[0m                                Traceback (most recent call last)",
            "\u001b[0;32m<ipython-input-30-0383b3661228>\u001b[0m in \u001b[0;36m<cell line: 8>\u001b[0;34m()\u001b[0m\n\u001b[1;32m     19\u001b[0m \u001b[0;34m\u001b[0m\u001b[0m\n\u001b[1;32m     20\u001b[0m   \u001b[0mlabels\u001b[0m \u001b[0;34m=\u001b[0m \u001b[0my_test\u001b[0m\u001b[0;34m[\u001b[0m\u001b[0mi\u001b[0m\u001b[0;34m]\u001b[0m\u001b[0;34m\u001b[0m\u001b[0;34m\u001b[0m\u001b[0m\n\u001b[0;32m---> 21\u001b[0;31m   \u001b[0mlabels\u001b[0m\u001b[0;34m[\u001b[0m\u001b[0;34m:\u001b[0m\u001b[0;34m,\u001b[0m\u001b[0;34m:\u001b[0m\u001b[0;36m6\u001b[0m\u001b[0;34m]\u001b[0m \u001b[0;34m=\u001b[0m \u001b[0mlabels\u001b[0m\u001b[0;34m[\u001b[0m\u001b[0;34m:\u001b[0m\u001b[0;34m,\u001b[0m\u001b[0;34m:\u001b[0m\u001b[0;36m6\u001b[0m\u001b[0;34m]\u001b[0m\u001b[0;34m*\u001b[0m\u001b[0;34m(\u001b[0m\u001b[0;36m50\u001b[0m\u001b[0;34m-\u001b[0m\u001b[0;36m1\u001b[0m\u001b[0;34m)\u001b[0m \u001b[0;34m+\u001b[0m \u001b[0;36m1\u001b[0m\u001b[0;34m\u001b[0m\u001b[0;34m\u001b[0m\u001b[0m\n\u001b[0m\u001b[1;32m     22\u001b[0m   \u001b[0mlabels\u001b[0m\u001b[0;34m[\u001b[0m\u001b[0;34m:\u001b[0m\u001b[0;34m,\u001b[0m\u001b[0;36m6\u001b[0m\u001b[0;34m:\u001b[0m\u001b[0;34m]\u001b[0m \u001b[0;34m=\u001b[0m \u001b[0mlabels\u001b[0m\u001b[0;34m[\u001b[0m\u001b[0;34m:\u001b[0m\u001b[0;34m,\u001b[0m\u001b[0;36m6\u001b[0m\u001b[0;34m:\u001b[0m\u001b[0;34m]\u001b[0m\u001b[0;34m*\u001b[0m\u001b[0;34m(\u001b[0m\u001b[0;36m12\u001b[0m\u001b[0;34m-\u001b[0m\u001b[0;36m1\u001b[0m\u001b[0;34m)\u001b[0m \u001b[0;34m+\u001b[0m \u001b[0;36m1\u001b[0m\u001b[0;34m\u001b[0m\u001b[0;34m\u001b[0m\u001b[0m\n\u001b[1;32m     23\u001b[0m \u001b[0;34m\u001b[0m\u001b[0m\n",
            "\u001b[0;31mIndexError\u001b[0m: too many indices for array: array is 1-dimensional, but 2 were indexed"
          ]
        }
      ]
    },
    {
      "cell_type": "code",
      "source": [
        "final_smape = sum(smape)/len(smape)\n",
        "final_mape = sum(mape)/len(mape)\n",
        "final_mse = sum(mse)/len(mse)\n",
        "final_rmse = sum(rmse)/len(rmse)\n",
        "\n",
        "print(f\"SMAPE: \\n {final_smape}\")\n",
        "print(f\"MAPE: \\n {final_mape}\")\n",
        "print(f\"MSE: \\n {final_mse}\")\n",
        "print(f\"RMSE: \\n {final_rmse}\")"
      ],
      "metadata": {
        "id": "nBOwLeQTf8nw"
      },
      "execution_count": null,
      "outputs": []
    }
  ],
  "metadata": {
    "colab": {
      "provenance": []
    },
    "kernelspec": {
      "display_name": "Python 3",
      "name": "python3"
    }
  },
  "nbformat": 4,
  "nbformat_minor": 0
}